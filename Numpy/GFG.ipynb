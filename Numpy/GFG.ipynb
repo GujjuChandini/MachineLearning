{
 "cells": [
  {
   "cell_type": "code",
   "execution_count": 7,
   "id": "f584772a-9a82-4361-9843-c8c9863e666a",
   "metadata": {},
   "outputs": [],
   "source": [
    "import numpy as np"
   ]
  },
  {
   "cell_type": "code",
   "execution_count": 10,
   "id": "3ac45ce8-9e98-448b-91cc-88fd9e6916ac",
   "metadata": {},
   "outputs": [
    {
     "data": {
      "text/plain": [
       "array([1, 2, 3, 4, 5])"
      ]
     },
     "execution_count": 10,
     "metadata": {},
     "output_type": "execute_result"
    }
   ],
   "source": [
    "lst = [1,2,3,4,5]\n",
    "arr=np.array(lst)\n",
    "arr"
   ]
  },
  {
   "cell_type": "code",
   "execution_count": 12,
   "id": "c199bf9f-4a44-4196-a4b3-a6aec7a7f0f9",
   "metadata": {},
   "outputs": [
    {
     "data": {
      "text/plain": [
       "1"
      ]
     },
     "execution_count": 12,
     "metadata": {},
     "output_type": "execute_result"
    }
   ],
   "source": [
    "arr.ndim #diimensions of array"
   ]
  },
  {
   "cell_type": "code",
   "execution_count": 14,
   "id": "8668e4a6-f7c6-4df6-82ad-3467f7821671",
   "metadata": {},
   "outputs": [
    {
     "data": {
      "text/plain": [
       "(5,)"
      ]
     },
     "execution_count": 14,
     "metadata": {},
     "output_type": "execute_result"
    }
   ],
   "source": [
    "arr.shape #shape of the array"
   ]
  },
  {
   "cell_type": "code",
   "execution_count": 16,
   "id": "bd3f5936-4dd8-42e7-9ad4-807975fa5e13",
   "metadata": {},
   "outputs": [
    {
     "data": {
      "text/plain": [
       "5"
      ]
     },
     "execution_count": 16,
     "metadata": {},
     "output_type": "execute_result"
    }
   ],
   "source": [
    "arr.size"
   ]
  },
  {
   "cell_type": "code",
   "execution_count": 18,
   "id": "c762dd5d-7f19-4923-aac1-73866ba9ebc6",
   "metadata": {},
   "outputs": [
    {
     "data": {
      "text/plain": [
       "dtype('int32')"
      ]
     },
     "execution_count": 18,
     "metadata": {},
     "output_type": "execute_result"
    }
   ],
   "source": [
    "arr.dtype"
   ]
  },
  {
   "cell_type": "code",
   "execution_count": 20,
   "id": "582b2238-2313-444b-b3ae-6894719ac05e",
   "metadata": {},
   "outputs": [
    {
     "data": {
      "text/plain": [
       "array([[0., 0., 0., 0., 0.],\n",
       "       [0., 0., 0., 0., 0.],\n",
       "       [0., 0., 0., 0., 0.]])"
      ]
     },
     "execution_count": 20,
     "metadata": {},
     "output_type": "execute_result"
    }
   ],
   "source": [
    "zeros = np.zeros((3,5)) #give space in it\n",
    "zeros"
   ]
  },
  {
   "cell_type": "code",
   "execution_count": 22,
   "id": "8ca99d95-8fe7-45fc-884a-be01f23055fe",
   "metadata": {},
   "outputs": [
    {
     "data": {
      "text/plain": [
       "array([[1., 1., 1., 1., 1.],\n",
       "       [1., 1., 1., 1., 1.],\n",
       "       [1., 1., 1., 1., 1.]])"
      ]
     },
     "execution_count": 22,
     "metadata": {},
     "output_type": "execute_result"
    }
   ],
   "source": [
    "ones = np.ones((3,5)) #give space in it\n",
    "ones"
   ]
  },
  {
   "cell_type": "markdown",
   "id": "441a4c36-7917-429d-854e-f5bd2dbea348",
   "metadata": {},
   "source": [
    "***Reshape and RandomNumber Generator***"
   ]
  },
  {
   "cell_type": "code",
   "execution_count": 56,
   "id": "c7d94580-3bb4-40c4-b3e1-15b2b045018e",
   "metadata": {},
   "outputs": [
    {
     "data": {
      "text/plain": [
       "array([[0.54259505, 0.6756397 , 0.62276421],\n",
       "       [0.70635223, 0.29655433, 0.90546133],\n",
       "       [0.00825388, 0.89248227, 0.45491636]])"
      ]
     },
     "execution_count": 56,
     "metadata": {},
     "output_type": "execute_result"
    }
   ],
   "source": [
    "ar = np.random.random((3,3))\n",
    "ar"
   ]
  },
  {
   "cell_type": "code",
   "execution_count": 58,
   "id": "8d92ea71-427d-4e59-8034-e5864cf18839",
   "metadata": {},
   "outputs": [
    {
     "data": {
      "text/plain": [
       "array([1, 4, 7])"
      ]
     },
     "execution_count": 58,
     "metadata": {},
     "output_type": "execute_result"
    }
   ],
   "source": [
    "np.arange(1,10,3) #here 3 is distance"
   ]
  },
  {
   "cell_type": "code",
   "execution_count": 60,
   "id": "d83dcc90-e544-4a04-b7c2-dc058b9fdb84",
   "metadata": {},
   "outputs": [
    {
     "data": {
      "text/plain": [
       "array([ 1.,  4.,  7., 10.])"
      ]
     },
     "execution_count": 60,
     "metadata": {},
     "output_type": "execute_result"
    }
   ],
   "source": [
    "np.linspace(1,10,4) # here 4 is no.of values"
   ]
  },
  {
   "cell_type": "code",
   "execution_count": 62,
   "id": "7033071a-b79a-45b3-9f2d-7eb0356387e4",
   "metadata": {},
   "outputs": [
    {
     "name": "stdout",
     "output_type": "stream",
     "text": [
      "[[0.54259505]\n",
      " [0.6756397 ]\n",
      " [0.62276421]\n",
      " [0.70635223]\n",
      " [0.29655433]\n",
      " [0.90546133]\n",
      " [0.00825388]\n",
      " [0.89248227]\n",
      " [0.45491636]]\n"
     ]
    }
   ],
   "source": [
    "ar = np.reshape(ar, (9,1))\n",
    "print(ar)"
   ]
  },
  {
   "cell_type": "code",
   "execution_count": 66,
   "id": "8afa6e26-5e67-4335-9301-70f293cddbec",
   "metadata": {},
   "outputs": [
    {
     "data": {
      "text/plain": [
       "array([0.54259505, 0.6756397 , 0.62276421, 0.70635223, 0.29655433,\n",
       "       0.90546133, 0.00825388, 0.89248227, 0.45491636])"
      ]
     },
     "execution_count": 66,
     "metadata": {},
     "output_type": "execute_result"
    }
   ],
   "source": [
    "ar.flatten() # converts into one dimensional"
   ]
  },
  {
   "cell_type": "markdown",
   "id": "8f28b078-0ad6-4bbc-bbfa-2d27b32cb0af",
   "metadata": {},
   "source": [
    "***Arithmetic Operations On Array***"
   ]
  },
  {
   "cell_type": "code",
   "execution_count": 69,
   "id": "ea62c64b-20b4-4c53-bd1f-0517db370892",
   "metadata": {},
   "outputs": [
    {
     "data": {
      "text/plain": [
       "array([1, 2, 3, 4, 5, 6])"
      ]
     },
     "execution_count": 69,
     "metadata": {},
     "output_type": "execute_result"
    }
   ],
   "source": [
    "arr = np.array([1,2,3,4,5,6])\n",
    "arr"
   ]
  },
  {
   "cell_type": "code",
   "execution_count": 73,
   "id": "63e7ea7c-6a7a-4bb7-accd-5e995a46dcef",
   "metadata": {},
   "outputs": [
    {
     "name": "stdout",
     "output_type": "stream",
     "text": [
      "[2 3 4 5 6 7]\n",
      "[0 1 2 3 4 5]\n",
      "[ 5 10 15 20 25 30]\n",
      "[0.2 0.4 0.6 0.8 1.  1.2]\n",
      "[ 1  4  9 16 25 36]\n"
     ]
    }
   ],
   "source": [
    "print(arr+1)\n",
    "print(arr-1)\n",
    "print(arr*5)\n",
    "print(arr/5)\n",
    "print(arr**2)"
   ]
  },
  {
   "cell_type": "code",
   "execution_count": 75,
   "id": "003bc05c-41a7-4a50-a9e5-a28a9b6aa7a2",
   "metadata": {},
   "outputs": [
    {
     "data": {
      "text/plain": [
       "6"
      ]
     },
     "execution_count": 75,
     "metadata": {},
     "output_type": "execute_result"
    }
   ],
   "source": [
    "arr.max()"
   ]
  },
  {
   "cell_type": "code",
   "execution_count": 77,
   "id": "5f483902-521c-4d5b-bce8-3dc30d11afa6",
   "metadata": {},
   "outputs": [
    {
     "data": {
      "text/plain": [
       "1"
      ]
     },
     "execution_count": 77,
     "metadata": {},
     "output_type": "execute_result"
    }
   ],
   "source": [
    "arr.min()"
   ]
  },
  {
   "cell_type": "code",
   "execution_count": 79,
   "id": "b727d19f-63d7-4d28-903c-9c1ad290396d",
   "metadata": {},
   "outputs": [
    {
     "data": {
      "text/plain": [
       "array([[1, 2, 3],\n",
       "       [4, 5, 6]])"
      ]
     },
     "execution_count": 79,
     "metadata": {},
     "output_type": "execute_result"
    }
   ],
   "source": [
    "arr = np.array([[1,2,3],\n",
    "                [4,5,6]])\n",
    "arr"
   ]
  },
  {
   "cell_type": "code",
   "execution_count": 81,
   "id": "c0a1b95f-50b0-4b44-9fa8-913c2bc615a1",
   "metadata": {},
   "outputs": [
    {
     "data": {
      "text/plain": [
       "array([4, 5, 6])"
      ]
     },
     "execution_count": 81,
     "metadata": {},
     "output_type": "execute_result"
    }
   ],
   "source": [
    "arr.max(axis=0) # column wise"
   ]
  },
  {
   "cell_type": "code",
   "execution_count": 83,
   "id": "93908e69-b488-4796-bcf7-2b6cd93bdc2e",
   "metadata": {},
   "outputs": [
    {
     "data": {
      "text/plain": [
       "array([1, 4])"
      ]
     },
     "execution_count": 83,
     "metadata": {},
     "output_type": "execute_result"
    }
   ],
   "source": [
    "arr.min(axis=1) # row wise"
   ]
  },
  {
   "cell_type": "code",
   "execution_count": 85,
   "id": "315bf61e-3ca8-4768-8582-a2ebf1db4d5a",
   "metadata": {},
   "outputs": [
    {
     "data": {
      "text/plain": [
       "21"
      ]
     },
     "execution_count": 85,
     "metadata": {},
     "output_type": "execute_result"
    }
   ],
   "source": [
    "arr.sum()"
   ]
  },
  {
   "cell_type": "markdown",
   "id": "16415053-2746-483d-a346-9618ec02eafe",
   "metadata": {},
   "source": [
    "*Arithmetic operation on multiple arrays*"
   ]
  },
  {
   "cell_type": "code",
   "execution_count": 93,
   "id": "9fed7ba8-f336-48af-97f8-df2055423340",
   "metadata": {},
   "outputs": [],
   "source": [
    "arr = np.array([1,2,3,4,5])\n",
    "arr1=np.array([6,7,8,9,1])"
   ]
  },
  {
   "cell_type": "code",
   "execution_count": 95,
   "id": "53b6205b-fb72-4ebd-98ec-ce9178ade506",
   "metadata": {},
   "outputs": [
    {
     "data": {
      "text/plain": [
       "array([ 7,  9, 11, 13,  6])"
      ]
     },
     "execution_count": 95,
     "metadata": {},
     "output_type": "execute_result"
    }
   ],
   "source": [
    "arr+arr1"
   ]
  },
  {
   "cell_type": "code",
   "execution_count": 97,
   "id": "a103df50-9f97-4270-ad39-aae8d623974e",
   "metadata": {},
   "outputs": [
    {
     "data": {
      "text/plain": [
       "85"
      ]
     },
     "execution_count": 97,
     "metadata": {},
     "output_type": "execute_result"
    }
   ],
   "source": [
    "arr.dot(arr1)"
   ]
  },
  {
   "cell_type": "code",
   "execution_count": 99,
   "id": "945b509e-46da-4f55-bd6c-1331e53bb11c",
   "metadata": {},
   "outputs": [
    {
     "data": {
      "text/plain": [
       "array([1, 2, 3, 4, 5])"
      ]
     },
     "execution_count": 99,
     "metadata": {},
     "output_type": "execute_result"
    }
   ],
   "source": [
    "arr[:]"
   ]
  },
  {
   "cell_type": "code",
   "execution_count": 101,
   "id": "15849cd1-f529-496a-aa4c-27d34661eb1f",
   "metadata": {},
   "outputs": [
    {
     "data": {
      "text/plain": [
       "array([1, 2, 3])"
      ]
     },
     "execution_count": 101,
     "metadata": {},
     "output_type": "execute_result"
    }
   ],
   "source": [
    "arr[:3]"
   ]
  },
  {
   "cell_type": "code",
   "execution_count": 103,
   "id": "28a92115-b15b-412f-a597-9e66540d86a6",
   "metadata": {},
   "outputs": [
    {
     "data": {
      "text/plain": [
       "array([[1, 2, 3],\n",
       "       [4, 5, 6],\n",
       "       [7, 8, 9]])"
      ]
     },
     "execution_count": 103,
     "metadata": {},
     "output_type": "execute_result"
    }
   ],
   "source": [
    "arr = np.array([[1,2,3],\n",
    "               [4,5,6],\n",
    "               [7,8,9]])\n",
    "arr"
   ]
  },
  {
   "cell_type": "code",
   "execution_count": 105,
   "id": "1aa2e8cc-e460-494d-9dd1-ba6fb4f0c749",
   "metadata": {},
   "outputs": [
    {
     "data": {
      "text/plain": [
       "array([[1, 2, 3],\n",
       "       [4, 5, 6],\n",
       "       [7, 8, 9]])"
      ]
     },
     "execution_count": 105,
     "metadata": {},
     "output_type": "execute_result"
    }
   ],
   "source": [
    "arr[:,:]"
   ]
  },
  {
   "cell_type": "code",
   "execution_count": 107,
   "id": "f5b61e78-a8ba-4482-a90b-0e90236364f0",
   "metadata": {},
   "outputs": [
    {
     "data": {
      "text/plain": [
       "array([[6]])"
      ]
     },
     "execution_count": 107,
     "metadata": {},
     "output_type": "execute_result"
    }
   ],
   "source": [
    "arr[1:2,2:3]"
   ]
  },
  {
   "cell_type": "code",
   "execution_count": 109,
   "id": "461c8ad9-bd6c-4fcd-83d6-40945c7ebc8b",
   "metadata": {},
   "outputs": [
    {
     "data": {
      "text/plain": [
       "array([[1],\n",
       "       [4],\n",
       "       [7]])"
      ]
     },
     "execution_count": 109,
     "metadata": {},
     "output_type": "execute_result"
    }
   ],
   "source": [
    "arr[:,:1]"
   ]
  },
  {
   "cell_type": "markdown",
   "id": "85e5ce57-f1f6-4a69-a8a5-c775f6a24797",
   "metadata": {},
   "source": [
    "***Sorting***"
   ]
  },
  {
   "cell_type": "code",
   "execution_count": 112,
   "id": "d19aaba5-cd8a-4bb0-9e85-5fc4c3197b53",
   "metadata": {},
   "outputs": [
    {
     "data": {
      "text/plain": [
       "array([[1, 5, 3],\n",
       "       [6, 3, 8],\n",
       "       [5, 0, 3]])"
      ]
     },
     "execution_count": 112,
     "metadata": {},
     "output_type": "execute_result"
    }
   ],
   "source": [
    "arr = np.array([[1,5,3],\n",
    "                [6,3,8],\n",
    "                [5,0,3]])\n",
    "arr"
   ]
  },
  {
   "cell_type": "code",
   "execution_count": 120,
   "id": "768d44f4-3445-4ae2-9885-8b7c2047dad9",
   "metadata": {},
   "outputs": [
    {
     "data": {
      "text/plain": [
       "array([[1, 0, 3],\n",
       "       [5, 3, 3],\n",
       "       [6, 5, 8]])"
      ]
     },
     "execution_count": 120,
     "metadata": {},
     "output_type": "execute_result"
    }
   ],
   "source": [
    "np.sort(arr,axis=0)"
   ]
  },
  {
   "cell_type": "code",
   "execution_count": 126,
   "id": "6f395330-b945-4b54-996f-f71de8bbde21",
   "metadata": {},
   "outputs": [
    {
     "data": {
      "text/plain": [
       "array([[1, 3, 5],\n",
       "       [3, 6, 8],\n",
       "       [0, 3, 5]])"
      ]
     },
     "execution_count": 126,
     "metadata": {},
     "output_type": "execute_result"
    }
   ],
   "source": [
    "np.sort(arr,axis=1,kind='mergesort')"
   ]
  },
  {
   "cell_type": "code",
   "execution_count": 124,
   "id": "a9e7c614-8d1e-4af6-bee0-c689596630bd",
   "metadata": {},
   "outputs": [
    {
     "data": {
      "text/plain": [
       "array([[1, 3, 5],\n",
       "       [3, 6, 8],\n",
       "       [0, 3, 5]])"
      ]
     },
     "execution_count": 124,
     "metadata": {},
     "output_type": "execute_result"
    }
   ],
   "source": [
    "np.sort(arr)"
   ]
  },
  {
   "cell_type": "markdown",
   "id": "4f1a97d5-f3c9-420a-a7b4-70a191b31b48",
   "metadata": {},
   "source": [
    "***Array Merging***"
   ]
  },
  {
   "cell_type": "code",
   "execution_count": 129,
   "id": "ffe81ef0-e056-4ce4-9ccf-885b5b3b7cb6",
   "metadata": {},
   "outputs": [],
   "source": [
    "arr = np.array([[1,2,3,4],\n",
    "                [5,6,7,8]])\n",
    "arr1 = np.array([[8,7,6,5],\n",
    "                 [4,3,2,1]])"
   ]
  },
  {
   "cell_type": "code",
   "execution_count": 131,
   "id": "7539fd2b-1369-4887-85ad-74b7d345c16d",
   "metadata": {},
   "outputs": [
    {
     "data": {
      "text/plain": [
       "array([[1, 2, 3, 4],\n",
       "       [5, 6, 7, 8],\n",
       "       [8, 7, 6, 5],\n",
       "       [4, 3, 2, 1]])"
      ]
     },
     "execution_count": 131,
     "metadata": {},
     "output_type": "execute_result"
    }
   ],
   "source": [
    "np.vstack((arr,arr1))"
   ]
  },
  {
   "cell_type": "code",
   "execution_count": 133,
   "id": "43c355fe-9ba3-49c5-85bf-cb448b213964",
   "metadata": {},
   "outputs": [
    {
     "data": {
      "text/plain": [
       "array([[1, 2, 3, 4, 8, 7, 6, 5],\n",
       "       [5, 6, 7, 8, 4, 3, 2, 1]])"
      ]
     },
     "execution_count": 133,
     "metadata": {},
     "output_type": "execute_result"
    }
   ],
   "source": [
    "np.hstack((arr,arr1))"
   ]
  },
  {
   "cell_type": "code",
   "execution_count": 141,
   "id": "1efece8b-7514-4ca3-926e-aa6ae0b77c4c",
   "metadata": {},
   "outputs": [
    {
     "data": {
      "text/plain": [
       "array([[1, 2, 3, 4],\n",
       "       [5, 6, 7, 8],\n",
       "       [8, 7, 6, 5],\n",
       "       [4, 3, 2, 1]])"
      ]
     },
     "execution_count": 141,
     "metadata": {},
     "output_type": "execute_result"
    }
   ],
   "source": [
    "ar = np.concatenate((arr,arr1),axis=0)\n",
    "ar"
   ]
  },
  {
   "cell_type": "code",
   "execution_count": 137,
   "id": "e9d3f7e4-7567-4ba1-8ec8-da39abfeb4c6",
   "metadata": {},
   "outputs": [
    {
     "data": {
      "text/plain": [
       "array([[1, 2, 3, 4, 8, 7, 6, 5],\n",
       "       [5, 6, 7, 8, 4, 3, 2, 1]])"
      ]
     },
     "execution_count": 137,
     "metadata": {},
     "output_type": "execute_result"
    }
   ],
   "source": [
    "np.concatenate((arr,arr1),axis=1)"
   ]
  },
  {
   "cell_type": "code",
   "execution_count": 143,
   "id": "95aaf104-c7c3-414e-bfe1-9478f27d55f1",
   "metadata": {},
   "outputs": [
    {
     "data": {
      "text/plain": [
       "[array([[1, 2],\n",
       "        [5, 6],\n",
       "        [8, 7],\n",
       "        [4, 3]]),\n",
       " array([[3, 4],\n",
       "        [7, 8],\n",
       "        [6, 5],\n",
       "        [2, 1]])]"
      ]
     },
     "execution_count": 143,
     "metadata": {},
     "output_type": "execute_result"
    }
   ],
   "source": [
    "np.hsplit(ar,2)"
   ]
  },
  {
   "cell_type": "code",
   "execution_count": 145,
   "id": "5b64c855-e0a1-4edb-8bef-803cf3f17b6b",
   "metadata": {},
   "outputs": [
    {
     "data": {
      "text/plain": [
       "[array([[1, 2, 3, 4],\n",
       "        [5, 6, 7, 8]]),\n",
       " array([[8, 7, 6, 5],\n",
       "        [4, 3, 2, 1]])]"
      ]
     },
     "execution_count": 145,
     "metadata": {},
     "output_type": "execute_result"
    }
   ],
   "source": [
    "np.vsplit(ar,2)"
   ]
  },
  {
   "cell_type": "markdown",
   "id": "6013483e-2dd8-4446-8e5a-47495fc8df26",
   "metadata": {},
   "source": [
    "***Slicing, Cropping and Indexing in Arrays***"
   ]
  },
  {
   "cell_type": "code",
   "execution_count": 148,
   "id": "3bd83113-e17d-44b3-b1a6-00128357ead3",
   "metadata": {},
   "outputs": [
    {
     "data": {
      "text/plain": [
       "array([[1, 2, 3, 4],\n",
       "       [5, 6, 7, 8],\n",
       "       [9, 7, 5, 3]])"
      ]
     },
     "execution_count": 148,
     "metadata": {},
     "output_type": "execute_result"
    }
   ],
   "source": [
    "arr = np.array([[1,2,3,4],\n",
    "                [5,6,7,8],\n",
    "                [9,7,5,3]])\n",
    "arr"
   ]
  },
  {
   "cell_type": "markdown",
   "id": "1d23e562-ddcc-4e1c-89f2-9f93c09834d0",
   "metadata": {},
   "source": [
    "***Automating using Numpy***"
   ]
  },
  {
   "cell_type": "code",
   "execution_count": 152,
   "id": "fd9a5153-782f-41b1-8443-0a3a98fdd844",
   "metadata": {},
   "outputs": [],
   "source": [
    "lst = [1,2,3,4,5,6,7,8,9,10]"
   ]
  },
  {
   "cell_type": "code",
   "execution_count": 154,
   "id": "fe55ec2b-3bd1-406c-b888-d903c62e9ebd",
   "metadata": {},
   "outputs": [
    {
     "name": "stdout",
     "output_type": "stream",
     "text": [
      "5\n"
     ]
    }
   ],
   "source": [
    "q = 0\n",
    "for i in lst:\n",
    "    if(i>5):\n",
    "        q+=1\n",
    "print(q)"
   ]
  },
  {
   "cell_type": "code",
   "execution_count": 156,
   "id": "631541b0-3e39-4e30-80bd-1902c3fe74b5",
   "metadata": {},
   "outputs": [
    {
     "data": {
      "text/plain": [
       "array([ 1,  2,  3,  4,  5,  6,  7,  8,  9, 10])"
      ]
     },
     "execution_count": 156,
     "metadata": {},
     "output_type": "execute_result"
    }
   ],
   "source": [
    "lst = np.array([1,2,3,4,5,6,7,8,9,10])\n",
    "lst"
   ]
  },
  {
   "cell_type": "code",
   "execution_count": 166,
   "id": "350aa406-3c91-410b-836c-cf2d7aaf59d5",
   "metadata": {},
   "outputs": [
    {
     "data": {
      "text/plain": [
       "array([False, False, False, False, False,  True,  True,  True,  True,\n",
       "        True])"
      ]
     },
     "execution_count": 166,
     "metadata": {},
     "output_type": "execute_result"
    }
   ],
   "source": [
    "lst>5"
   ]
  },
  {
   "cell_type": "code",
   "execution_count": 168,
   "id": "fd4f17f1-4f85-4575-a09e-04c89bd9b6e3",
   "metadata": {},
   "outputs": [
    {
     "data": {
      "text/plain": [
       "array([ 6,  7,  8,  9, 10])"
      ]
     },
     "execution_count": 168,
     "metadata": {},
     "output_type": "execute_result"
    }
   ],
   "source": [
    "lst[lst>5]"
   ]
  },
  {
   "cell_type": "code",
   "execution_count": 170,
   "id": "6938c4af-7aab-47e6-bc83-b3969f5cdf12",
   "metadata": {},
   "outputs": [
    {
     "data": {
      "text/plain": [
       "5"
      ]
     },
     "execution_count": 170,
     "metadata": {},
     "output_type": "execute_result"
    }
   ],
   "source": [
    "len(lst[lst>5])"
   ]
  },
  {
   "cell_type": "markdown",
   "id": "cb1c20f3-35b1-41ea-84ee-a86d9387505a",
   "metadata": {},
   "source": [
    "***Eye function***"
   ]
  },
  {
   "cell_type": "code",
   "execution_count": 185,
   "id": "e610f292-8bbe-44bc-8bb6-cfb1b31b9cf3",
   "metadata": {},
   "outputs": [
    {
     "data": {
      "text/plain": [
       "array([[1, 0, 0, 0, 0, 0, 0, 0, 0, 0],\n",
       "       [0, 1, 0, 0, 0, 0, 0, 0, 0, 0],\n",
       "       [0, 0, 1, 0, 0, 0, 0, 0, 0, 0],\n",
       "       [0, 0, 0, 1, 0, 0, 0, 0, 0, 0],\n",
       "       [0, 0, 0, 0, 1, 0, 0, 0, 0, 0],\n",
       "       [0, 0, 0, 0, 0, 1, 0, 0, 0, 0],\n",
       "       [0, 0, 0, 0, 0, 0, 1, 0, 0, 0],\n",
       "       [0, 0, 0, 0, 0, 0, 0, 1, 0, 0],\n",
       "       [0, 0, 0, 0, 0, 0, 0, 0, 1, 0],\n",
       "       [0, 0, 0, 0, 0, 0, 0, 0, 0, 1]])"
      ]
     },
     "execution_count": 185,
     "metadata": {},
     "output_type": "execute_result"
    }
   ],
   "source": [
    "np.eye(10,dtype=int)"
   ]
  },
  {
   "cell_type": "markdown",
   "id": "78b63573-5a3c-4673-8fa3-3cf7631bd204",
   "metadata": {},
   "source": [
    "***Empty function***"
   ]
  },
  {
   "cell_type": "code",
   "execution_count": 188,
   "id": "839df777-c343-495d-9538-07f94d9894b2",
   "metadata": {},
   "outputs": [
    {
     "data": {
      "text/plain": [
       "array([[8.82960296e-312, 7.65801751e-322, 0.00000000e+000,\n",
       "        0.00000000e+000, 7.56571287e-307],\n",
       "       [1.15998412e-028, 4.31603868e-080, 1.94919985e-153,\n",
       "        1.35717430e+131, 1.96567549e-062],\n",
       "       [1.81148490e-152, 1.13281333e-051, 1.05219790e-153,\n",
       "        6.01391519e-154, 1.05237712e-153],\n",
       "       [1.00630255e+141, 6.01347002e-154, 8.95402181e-096,\n",
       "        1.95360725e-109, 4.90900643e+252],\n",
       "       [1.94918511e-153, 6.32672800e+180, 4.74483502e+170,\n",
       "        4.59210323e-072, 4.05411445e-317]])"
      ]
     },
     "execution_count": 188,
     "metadata": {},
     "output_type": "execute_result"
    }
   ],
   "source": [
    "np.empty(shape=(5,5))"
   ]
  },
  {
   "cell_type": "markdown",
   "id": "579cad06-acd9-4d29-aadc-86eda202fc50",
   "metadata": {},
   "source": [
    "***Random functions***"
   ]
  },
  {
   "cell_type": "code",
   "execution_count": 191,
   "id": "f90edab9-ff32-4cf6-b132-497de3243ebc",
   "metadata": {},
   "outputs": [
    {
     "data": {
      "text/plain": [
       "0.9986922466058197"
      ]
     },
     "execution_count": 191,
     "metadata": {},
     "output_type": "execute_result"
    }
   ],
   "source": [
    "np.random.rand()"
   ]
  },
  {
   "cell_type": "code",
   "execution_count": 197,
   "id": "c3bbeedc-c815-4752-82a6-5027c6ee6fb0",
   "metadata": {},
   "outputs": [
    {
     "data": {
      "text/plain": [
       "3"
      ]
     },
     "execution_count": 197,
     "metadata": {},
     "output_type": "execute_result"
    }
   ],
   "source": [
    "np.random.randint(10)"
   ]
  },
  {
   "cell_type": "code",
   "execution_count": 209,
   "id": "985de993-82e4-433b-8c76-3ecbb7ea0f4a",
   "metadata": {},
   "outputs": [
    {
     "data": {
      "text/plain": [
       "5"
      ]
     },
     "execution_count": 209,
     "metadata": {},
     "output_type": "execute_result"
    }
   ],
   "source": [
    "np.random.randint(2,10)"
   ]
  },
  {
   "cell_type": "code",
   "execution_count": 211,
   "id": "ff77fa80-7d2a-45a5-9905-33e15f4fefec",
   "metadata": {},
   "outputs": [
    {
     "data": {
      "text/plain": [
       "array([ 7,  9, 10,  7,  8, 10,  2,  2,  4,  6])"
      ]
     },
     "execution_count": 211,
     "metadata": {},
     "output_type": "execute_result"
    }
   ],
   "source": [
    "np.random.randint(low=1,high=11,size=10)"
   ]
  },
  {
   "cell_type": "code",
   "execution_count": 217,
   "id": "98d9205a-a94a-4b6c-9364-4627e9c56a4c",
   "metadata": {},
   "outputs": [
    {
     "data": {
      "text/plain": [
       "array([-1.61459957, -0.18432492, -0.38442259])"
      ]
     },
     "execution_count": 217,
     "metadata": {},
     "output_type": "execute_result"
    }
   ],
   "source": [
    "np.random.randn(3)"
   ]
  },
  {
   "cell_type": "markdown",
   "id": "4fbaa82b-2dad-4cd6-b2b3-d4282560d845",
   "metadata": {},
   "source": [
    "***Reshape function -will not alter original data***"
   ]
  },
  {
   "cell_type": "code",
   "execution_count": 232,
   "id": "723c1724-9d16-40f8-8fc5-5833d48eb863",
   "metadata": {},
   "outputs": [
    {
     "name": "stdout",
     "output_type": "stream",
     "text": [
      "[[ 8 14 14  6]\n",
      " [ 3  4  6  2]\n",
      " [ 7  7  5 13]]\n",
      "[[ 8 14 14]\n",
      " [ 6  3  4]\n",
      " [ 6  2  7]\n",
      " [ 7  5 13]]\n"
     ]
    }
   ],
   "source": [
    "arr = np.random.randint(1,15,(3,4))\n",
    "print(arr)\n",
    "arr = arr.reshape(4,3)\n",
    "print(arr)"
   ]
  },
  {
   "cell_type": "markdown",
   "id": "473b7e61-686a-4c9f-a482-52d6b999e780",
   "metadata": {},
   "source": [
    "***Linspace function***"
   ]
  },
  {
   "cell_type": "code",
   "execution_count": 234,
   "id": "cf2076f1-74ec-4e8c-9fd4-a08834582b3b",
   "metadata": {},
   "outputs": [
    {
     "data": {
      "text/plain": [
       "array([ 1., 10.])"
      ]
     },
     "execution_count": 234,
     "metadata": {},
     "output_type": "execute_result"
    }
   ],
   "source": [
    "np.linspace(1,10,2)"
   ]
  },
  {
   "cell_type": "code",
   "execution_count": 236,
   "id": "9691b8d5-4dc0-490d-99bc-abd65a7f4745",
   "metadata": {},
   "outputs": [
    {
     "data": {
      "text/plain": [
       "array([ 1.,  4.,  7., 10.])"
      ]
     },
     "execution_count": 236,
     "metadata": {},
     "output_type": "execute_result"
    }
   ],
   "source": [
    "np.linspace(1,10,4)"
   ]
  },
  {
   "cell_type": "markdown",
   "id": "e2b37fc9-6667-48c9-bd7b-4d6479ddfe17",
   "metadata": {},
   "source": [
    "***flatten function***"
   ]
  },
  {
   "cell_type": "code",
   "execution_count": 243,
   "id": "d4011d67-c783-443c-b4ee-622732568214",
   "metadata": {},
   "outputs": [
    {
     "name": "stdout",
     "output_type": "stream",
     "text": [
      "(3, 4)\n",
      "[[12  5 10 13]\n",
      " [ 7  7 12 14]\n",
      " [ 2  6  7  7]]\n",
      "(12,)\n",
      "[12  5 10 13  7  7 12 14  2  6  7  7]\n"
     ]
    }
   ],
   "source": [
    "arr = np.random.randint(1,15,(3,4))\n",
    "print(arr.shape)\n",
    "print(arr)\n",
    "arr = arr.flatten()\n",
    "print(arr.shape)\n",
    "print(arr)"
   ]
  },
  {
   "cell_type": "markdown",
   "id": "a1b1773f-d481-4f9f-a003-4117295a0b6a",
   "metadata": {},
   "source": [
    "***Logspace function***"
   ]
  },
  {
   "cell_type": "code",
   "execution_count": 246,
   "id": "429d8229-6008-4f70-a36a-935da9e19696",
   "metadata": {},
   "outputs": [
    {
     "name": "stdout",
     "output_type": "stream",
     "text": [
      "[  100.           166.81005372   278.25594022   464.15888336\n",
      "   774.26368268  1291.54966501  2154.43469003  3593.8136638\n",
      "  5994.84250319 10000.        ]\n"
     ]
    }
   ],
   "source": [
    "print(np.logspace(2,4,10))"
   ]
  },
  {
   "cell_type": "code",
   "execution_count": 248,
   "id": "aee30689-77e3-4cde-9727-b74f2f8b1910",
   "metadata": {},
   "outputs": [
    {
     "name": "stdout",
     "output_type": "stream",
     "text": [
      "[ 4.          4.66611616  5.44316     6.34960421  7.4069977   8.64047791\n",
      " 10.0793684  11.75787594 13.71590373 16.        ]\n"
     ]
    }
   ],
   "source": [
    "print(np.logspace(2,4,10,base = 2))"
   ]
  },
  {
   "cell_type": "markdown",
   "id": "609df594-88ae-4896-8323-c8040670c2cf",
   "metadata": {},
   "source": [
    "***Copy function***"
   ]
  },
  {
   "cell_type": "code",
   "execution_count": 319,
   "id": "75fff13e-66bb-4fd4-b4f2-c80ff3f90a01",
   "metadata": {},
   "outputs": [
    {
     "name": "stdout",
     "output_type": "stream",
     "text": [
      "[[3 3 3 3]\n",
      " [4 1 2 4]\n",
      " [3 2 1 3]]\n",
      "[[3 3 3 3]\n",
      " [4 1 2 4]\n",
      " [3 2 1 3]]\n",
      "1787591273968\n",
      "1787591274064\n",
      "--------------------------------------------------\n"
     ]
    }
   ],
   "source": [
    "arr1 = np.random.randint(1,5,(3,4))\n",
    "print(arr1)\n",
    "arr2 = np.copy(arr1)\n",
    "print(arr2)\n",
    "\n",
    "print(id(arr1))\n",
    "print(id(arr2))\n",
    "print('-'*50)"
   ]
  },
  {
   "cell_type": "markdown",
   "id": "89f6aa10-68a1-4a5f-a22f-9e25f4e97c15",
   "metadata": {},
   "source": [
    "***min, max and sum***"
   ]
  },
  {
   "cell_type": "code",
   "execution_count": 322,
   "id": "2300b189-bbc2-4f16-9826-2714b224fc9f",
   "metadata": {},
   "outputs": [
    {
     "name": "stdout",
     "output_type": "stream",
     "text": [
      "4\n",
      "1\n",
      "32\n",
      "[3 1 1 3]\n",
      "[3 1 1]\n"
     ]
    }
   ],
   "source": [
    "print(arr1.max())\n",
    "print(arr1.min())\n",
    "print(arr1.sum())\n",
    "print(arr1.min(axis=0))\n",
    "print(arr1.min(axis=1))"
   ]
  },
  {
   "cell_type": "markdown",
   "id": "1733f333-0a02-4992-b1ed-b0d9c3be9b2d",
   "metadata": {},
   "source": [
    "***Seed function***\n",
    "Generates Pseudo Random Numbers"
   ]
  },
  {
   "cell_type": "code",
   "execution_count": 325,
   "id": "119f4e72-8be8-4640-9a88-f25499c0da04",
   "metadata": {},
   "outputs": [
    {
     "data": {
      "text/plain": [
       "array([[9, 4, 9, 9, 1],\n",
       "       [6, 4, 6, 8, 7],\n",
       "       [1, 5, 8, 9, 2]])"
      ]
     },
     "execution_count": 325,
     "metadata": {},
     "output_type": "execute_result"
    }
   ],
   "source": [
    "np.random.seed(3)\n",
    "arr = np.random.randint(1,10,(3,5))\n",
    "arr"
   ]
  },
  {
   "cell_type": "markdown",
   "id": "ae864175-7a6b-4d0b-abe8-63187eb9307c",
   "metadata": {},
   "source": [
    "***Sorting function***"
   ]
  },
  {
   "cell_type": "code",
   "execution_count": 9,
   "id": "031ef98a-7739-4a6e-8ecd-a6c428b27faf",
   "metadata": {},
   "outputs": [
    {
     "name": "stdout",
     "output_type": "stream",
     "text": [
      "[[1 4 9 9 9]\n",
      " [4 6 6 7 8]\n",
      " [1 2 5 8 9]]\n"
     ]
    }
   ],
   "source": [
    "np.random.seed(3)\n",
    "arr = np.random.randint(1,10,(3,5))\n",
    "arr.sort()\n",
    "print(arr)"
   ]
  },
  {
   "cell_type": "code",
   "execution_count": 29,
   "id": "5b63e665-00ae-43d4-bbab-e89377c42c0e",
   "metadata": {},
   "outputs": [
    {
     "name": "stdout",
     "output_type": "stream",
     "text": [
      "[[1 1 2 4 4]\n",
      " [5 6 6 7 8]\n",
      " [8 9 9 9 9]]\n",
      "[[1 1 2 4 4]\n",
      " [5 6 6 7 8]\n",
      " [8 9 9 9 9]]\n",
      "[1 1 2 4 4 5 6 6 7 8 8 9 9 9 9]\n",
      "[1 1 2 4 4 5 6 6 7 8 8 9 9 9 9]\n",
      "[[1 1 2 4 4]\n",
      " [5 6 6 7 8]\n",
      " [8 9 9 9 9]]\n"
     ]
    }
   ],
   "source": [
    "print(np.sort(arr, axis = 0))\n",
    "print(np.sort(arr, axis = 1, kind = 'mergesort'))\n",
    "print(arr.flatten())\n",
    "print(np.sort(arr.flatten()))\n",
    "arr.shape\n",
    "arr = np.reshape(np.sort(arr.flatten()), arr.shape)\n",
    "print(arr)"
   ]
  },
  {
   "cell_type": "markdown",
   "id": "8e167537-0f09-48b9-b271-f6bd6c35145f",
   "metadata": {},
   "source": [
    "***Mathematical Operations***"
   ]
  },
  {
   "cell_type": "code",
   "execution_count": 50,
   "id": "c870731a-8e08-4228-b97d-5f71811cc319",
   "metadata": {},
   "outputs": [
    {
     "name": "stdout",
     "output_type": "stream",
     "text": [
      "[[9 4 9 9 1]\n",
      " [6 4 6 8 7]\n",
      " [1 5 8 9 2]]\n",
      "[[10  5 10 10  2]\n",
      " [ 7  5  7  9  8]\n",
      " [ 2  6  9 10  3]]\n",
      "[[8 3 8 8 0]\n",
      " [5 3 5 7 6]\n",
      " [0 4 7 8 1]]\n",
      "[[18  8 18 18  2]\n",
      " [12  8 12 16 14]\n",
      " [ 2 10 16 18  4]]\n",
      "[[4.5 2.  4.5 4.5 0.5]\n",
      " [3.  2.  3.  4.  3.5]\n",
      " [0.5 2.5 4.  4.5 1. ]]\n",
      "[[4 2 4 4 0]\n",
      " [3 2 3 4 3]\n",
      " [0 2 4 4 1]]\n",
      "[[81 16 81 81  1]\n",
      " [36 16 36 64 49]\n",
      " [ 1 25 64 81  4]]\n"
     ]
    }
   ],
   "source": [
    "np.random.seed(3)\n",
    "arr = np.random.randint(1,10,(3,5))\n",
    "print(arr)\n",
    "print(arr+1)\n",
    "print(arr-1)\n",
    "print(arr*2)\n",
    "print(arr/2)\n",
    "print(arr//2)\n",
    "print(arr**2)"
   ]
  },
  {
   "cell_type": "code",
   "execution_count": 46,
   "id": "6e0b9dab-d1fb-4eac-8439-d4efaf8f12b2",
   "metadata": {},
   "outputs": [
    {
     "name": "stdout",
     "output_type": "stream",
     "text": [
      "[[9 4 9 9 1]\n",
      " [6 4 6 8 7]\n",
      " [1 5 8 9 2]]\n",
      "[[7 3 3]\n",
      " [2 4 6]\n",
      " [9 2 9]\n",
      " [8 9 2]\n",
      " [1 6 5]]\n",
      "[[225 148 155]\n",
      " [175 160 147]\n",
      " [163 132 133]]\n",
      "[[225 148 155]\n",
      " [175 160 147]\n",
      " [163 132 133]]\n"
     ]
    }
   ],
   "source": [
    "np.random.seed(3)\n",
    "arr1 = np.random.randint(1,10,(3,5))\n",
    "print(arr1)\n",
    "arr2 = np.random.randint(1,10,(5,3))\n",
    "print(arr2)\n",
    "print(arr1@arr2)\n",
    "print(arr1.dot(arr2))"
   ]
  },
  {
   "cell_type": "markdown",
   "id": "afd648ff-b6df-4638-8acc-d8bc661a631b",
   "metadata": {},
   "source": [
    "***Percentile functions***"
   ]
  },
  {
   "cell_type": "code",
   "execution_count": 72,
   "id": "ebf1069f-d64d-4796-bc07-c0af713209b4",
   "metadata": {},
   "outputs": [
    {
     "name": "stdout",
     "output_type": "stream",
     "text": [
      "[9 4 9 9 1 6 4 6 8 7]\n"
     ]
    }
   ],
   "source": [
    "np.random.seed(3)\n",
    "arr1 = np.random.randint(1,10,10)\n",
    "print(arr1)"
   ]
  },
  {
   "cell_type": "code",
   "execution_count": 74,
   "id": "ca800947-7a20-4763-9938-b64f67c57ac2",
   "metadata": {},
   "outputs": [
    {
     "name": "stdout",
     "output_type": "stream",
     "text": [
      "[1 4 4 6 6 7 8 9 9 9]\n"
     ]
    }
   ],
   "source": [
    "arr = np.sort(arr1)\n",
    "print(arr)"
   ]
  },
  {
   "cell_type": "code",
   "execution_count": 86,
   "id": "12889616-ecd0-4879-9abc-c8d0a22fb35d",
   "metadata": {},
   "outputs": [
    {
     "name": "stdout",
     "output_type": "stream",
     "text": [
      "9.0\n",
      "4.5\n",
      "6.5\n",
      "8.75\n",
      "1.0\n",
      "4.0\n"
     ]
    }
   ],
   "source": [
    "print(np.percentile(arr,100))\n",
    "print(np.percentile(arr,25))\n",
    "print(np.percentile(arr,50))\n",
    "print(np.percentile(arr,75))\n",
    "print(np.percentile(arr,0))\n",
    "print(np.percentile(arr,20))"
   ]
  },
  {
   "cell_type": "markdown",
   "id": "7d8b429d-76b6-4f65-9039-70f0256428a5",
   "metadata": {},
   "source": [
    "***Mean, Variance and Standard Deviation***"
   ]
  },
  {
   "cell_type": "code",
   "execution_count": 100,
   "id": "89bcca11-2859-43a8-b37a-c1d9bec16c8b",
   "metadata": {},
   "outputs": [
    {
     "name": "stdout",
     "output_type": "stream",
     "text": [
      "[9 4 9 9 1 6 4 6 8 7]\n",
      "6.3\n",
      "6.410000000000001\n",
      "2.5317977802344327\n"
     ]
    }
   ],
   "source": [
    "np.random.seed(3)\n",
    "arr = np.random.randint(1,10,10)\n",
    "print(arr)\n",
    "print(arr.mean())\n",
    "print(arr.var())\n",
    "print(arr.std())"
   ]
  },
  {
   "cell_type": "markdown",
   "id": "d4413990-465a-4122-b0fc-bd8e4cd77361",
   "metadata": {},
   "source": [
    "***Filtering a Numpy Array***"
   ]
  },
  {
   "cell_type": "code",
   "execution_count": 109,
   "id": "fef97b25-c0ca-4a9d-9503-ffae1fb7ef9e",
   "metadata": {},
   "outputs": [
    {
     "name": "stdout",
     "output_type": "stream",
     "text": [
      "[ 1  2  3  4  5  6  7  8  9 10 11 12 13 14 15 16 17 18 19]\n",
      "[False False False False False False False False False False  True  True\n",
      "  True  True  True  True  True  True  True]\n",
      "[11 12 13 14 15 16 17 18 19]\n"
     ]
    }
   ],
   "source": [
    "arr = np.arange(1,20)\n",
    "print(arr)\n",
    "print(arr > 10)\n",
    "print(arr[arr>10])"
   ]
  },
  {
   "cell_type": "code",
   "execution_count": 111,
   "id": "db9cd0a8-9ff8-4962-bef6-f6ee05bc41c4",
   "metadata": {},
   "outputs": [
    {
     "name": "stdout",
     "output_type": "stream",
     "text": [
      "[1 2 3 4]\n"
     ]
    }
   ],
   "source": [
    "arr2 = arr[arr<5]\n",
    "print(arr2)"
   ]
  },
  {
   "cell_type": "markdown",
   "id": "5eb1b0db-df09-40b9-b181-4e328dfdfa15",
   "metadata": {},
   "source": [
    "***Transposing An Array***"
   ]
  },
  {
   "cell_type": "code",
   "execution_count": 116,
   "id": "d4ddc6c3-1846-49c0-bb39-df51c3b26351",
   "metadata": {},
   "outputs": [
    {
     "name": "stdout",
     "output_type": "stream",
     "text": [
      "[[ 2 16 17  6 18]\n",
      " [15  1  1 10 19]\n",
      " [ 6  8  6 15  2]]\n",
      "[[ 2 15  6]\n",
      " [16  1  8]\n",
      " [17  1  6]\n",
      " [ 6 10 15]\n",
      " [18 19  2]]\n"
     ]
    }
   ],
   "source": [
    "arr = np.random.randint(1,20,(3,5))\n",
    "print(arr)\n",
    "print(arr.T)"
   ]
  },
  {
   "cell_type": "markdown",
   "id": "afd66b10-781a-43e3-a84b-9ab27f063b34",
   "metadata": {},
   "source": [
    "***Where Function***"
   ]
  },
  {
   "cell_type": "markdown",
   "id": "7a80d9ed-8646-4f7c-a89d-4d186a469094",
   "metadata": {},
   "source": [
    "arr = np.random.randint(1,100,10)\n",
    "print(arr)\n",
    "print(np.where(arr%2==0, \"Even\" , arr))\n",
    "print(np.where(arr%2!=0, \"Ood\" , arr))\n",
    "arr1 = np.where(arr%2==0, \"Even\" , arr)\n",
    "arr1 = np.where(arr%2!=0, \"Ood\" , arr1)\n",
    "print(arr1)"
   ]
  },
  {
   "cell_type": "markdown",
   "id": "3729a397-e09a-4600-a99a-b9aaf5694ed9",
   "metadata": {},
   "source": [
    "***Merging Arrays***"
   ]
  },
  {
   "cell_type": "code",
   "execution_count": 142,
   "id": "58cfc6e0-92dd-4621-9269-e09208f40e5d",
   "metadata": {},
   "outputs": [
    {
     "name": "stdout",
     "output_type": "stream",
     "text": [
      "[[4 7 2 4]\n",
      " [8 5 1 9]]\n",
      "[[5 8 9 6]\n",
      " [7 8 4 6]]\n",
      "[[4 7 2 4]\n",
      " [8 5 1 9]\n",
      " [5 8 9 6]\n",
      " [7 8 4 6]]\n",
      "[[4 7 2 4 5 8 9 6]\n",
      " [8 5 1 9 7 8 4 6]]\n"
     ]
    }
   ],
   "source": [
    "arr1 = np.random.randint(1,10,(2,4))\n",
    "arr2 = np.random.randint(1,10,(2,4))\n",
    "print(arr1)\n",
    "print(arr2)\n",
    "print(np.concatenate((arr1,arr2), axis = 0))\n",
    "print(np.concatenate((arr1,arr2), axis = 1))"
   ]
  },
  {
   "cell_type": "markdown",
   "id": "28629bbb-c979-4b79-824d-86b4ee01f026",
   "metadata": {},
   "source": [
    "#vstack and hstack\n",
    "print(np.hstack((arr1,arr2)))\n",
    "print(np.vstack((arr1,arr2)))"
   ]
  },
  {
   "cell_type": "markdown",
   "id": "3fe607e7-51f5-4da8-9cc2-2d4f23098b76",
   "metadata": {},
   "source": [
    "***Splitting Arrays***"
   ]
  },
  {
   "cell_type": "code",
   "execution_count": 155,
   "id": "ba4b0b55-0d58-4611-bcd5-e8b7d2399b0c",
   "metadata": {},
   "outputs": [
    {
     "name": "stdout",
     "output_type": "stream",
     "text": [
      "[[2 6 8 6]\n",
      " [8 3 7 5]\n",
      " [9 5 4 9]\n",
      " [6 7 4 9]]\n",
      "[array([[2, 6, 8, 6],\n",
      "       [8, 3, 7, 5]]), array([[9, 5, 4, 9],\n",
      "       [6, 7, 4, 9]])]\n",
      "[array([[2, 6],\n",
      "       [8, 3],\n",
      "       [9, 5],\n",
      "       [6, 7]]), array([[8, 6],\n",
      "       [7, 5],\n",
      "       [4, 9],\n",
      "       [4, 9]])]\n"
     ]
    }
   ],
   "source": [
    "arr1 = np.random.randint(1,10,(4,4))\n",
    "print(arr1)\n",
    "print(np.vsplit(arr1,2))\n",
    "print(np.hsplit(arr1,2))"
   ]
  },
  {
   "cell_type": "markdown",
   "id": "5d774a61-c258-47a3-b05f-4bc455b769f5",
   "metadata": {},
   "source": [
    "***Turning Pictures into numpy arrays***"
   ]
  },
  {
   "cell_type": "code",
   "execution_count": 159,
   "id": "8e2efc17-d9c8-4034-901d-882502417926",
   "metadata": {},
   "outputs": [],
   "source": [
    "from matplotlib.image import imread"
   ]
  },
  {
   "cell_type": "code",
   "execution_count": 165,
   "id": "c7b386be-5136-4438-be18-426d34ea1826",
   "metadata": {},
   "outputs": [
    {
     "data": {
      "text/plain": [
       "(192, 204, 4)"
      ]
     },
     "execution_count": 165,
     "metadata": {},
     "output_type": "execute_result"
    }
   ],
   "source": [
    "img = imread(\"GFG.png\")\n",
    "img.shape"
   ]
  },
  {
   "cell_type": "code",
   "execution_count": 171,
   "id": "5425d367-d92c-4f8a-87e3-5fa6e4df27e7",
   "metadata": {},
   "outputs": [
    {
     "name": "stdout",
     "output_type": "stream",
     "text": [
      "1.0\n",
      "0.0\n"
     ]
    }
   ],
   "source": [
    "print(np.max(img)) #black\n",
    "print(np.min(img)) #white"
   ]
  }
 ],
 "metadata": {
  "kernelspec": {
   "display_name": "Python 3 (ipykernel)",
   "language": "python",
   "name": "python3"
  },
  "language_info": {
   "codemirror_mode": {
    "name": "ipython",
    "version": 3
   },
   "file_extension": ".py",
   "mimetype": "text/x-python",
   "name": "python",
   "nbconvert_exporter": "python",
   "pygments_lexer": "ipython3",
   "version": "3.12.4"
  }
 },
 "nbformat": 4,
 "nbformat_minor": 5
}
