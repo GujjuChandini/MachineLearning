{
 "cells": [
  {
   "cell_type": "markdown",
   "id": "f761037c-b605-4148-b77e-ff6569aec8b1",
   "metadata": {},
   "source": [
    "# Numpy"
   ]
  },
  {
   "cell_type": "code",
   "execution_count": 3,
   "id": "8fccf276-345a-4b1b-aba7-9d5821cbb3a8",
   "metadata": {},
   "outputs": [],
   "source": [
    "import numpy as np"
   ]
  },
  {
   "cell_type": "code",
   "execution_count": 13,
   "id": "fbe8bf66-f72e-48d7-a4e2-54a0f66eb39d",
   "metadata": {},
   "outputs": [],
   "source": [
    "myarr = np.array([[3,4,5,6,7]], np.int8)"
   ]
  },
  {
   "cell_type": "code",
   "execution_count": 19,
   "id": "68f8dfef-ca63-42fa-a484-0d81fcd9529c",
   "metadata": {},
   "outputs": [
    {
     "data": {
      "text/plain": [
       "array([3, 4, 5, 6, 7], dtype=int8)"
      ]
     },
     "execution_count": 19,
     "metadata": {},
     "output_type": "execute_result"
    }
   ],
   "source": [
    "myarr[0]"
   ]
  },
  {
   "cell_type": "code",
   "execution_count": 17,
   "id": "f00bad69-a45b-434c-87fb-bbef1c17558e",
   "metadata": {},
   "outputs": [
    {
     "data": {
      "text/plain": [
       "4"
      ]
     },
     "execution_count": 17,
     "metadata": {},
     "output_type": "execute_result"
    }
   ],
   "source": [
    "myarr[0,1]"
   ]
  },
  {
   "cell_type": "code",
   "execution_count": 21,
   "id": "3efb04bd-c60e-4a78-ac38-785ee91d9d3c",
   "metadata": {},
   "outputs": [
    {
     "data": {
      "text/plain": [
       "dtype('int8')"
      ]
     },
     "execution_count": 21,
     "metadata": {},
     "output_type": "execute_result"
    }
   ],
   "source": [
    "myarr.dtype"
   ]
  },
  {
   "cell_type": "code",
   "execution_count": 23,
   "id": "ecd66ab4-b495-4135-b567-d52a1e40c851",
   "metadata": {},
   "outputs": [],
   "source": [
    "myarr[0,1] = 34"
   ]
  },
  {
   "cell_type": "code",
   "execution_count": 25,
   "id": "f377568d-410a-49ac-a4db-e3fd902db3f5",
   "metadata": {},
   "outputs": [
    {
     "data": {
      "text/plain": [
       "array([[ 3, 34,  5,  6,  7]], dtype=int8)"
      ]
     },
     "execution_count": 25,
     "metadata": {},
     "output_type": "execute_result"
    }
   ],
   "source": [
    "myarr"
   ]
  },
  {
   "cell_type": "markdown",
   "id": "50f38f40-d32a-4ed8-835c-c875034a8c11",
   "metadata": {},
   "source": [
    "***Array creation in numpy***"
   ]
  },
  {
   "cell_type": "markdown",
   "id": "d660d5f0-ec37-480c-a61b-24df4cd90987",
   "metadata": {},
   "source": [
    "*1. Conversion from python structures*"
   ]
  },
  {
   "cell_type": "code",
   "execution_count": 35,
   "id": "6bc2661d-a6a6-4a79-9c2e-d400731b1c54",
   "metadata": {},
   "outputs": [],
   "source": [
    "listarr=np.array([[1,2,3], [4,5,6], [7,8,9]])"
   ]
  },
  {
   "cell_type": "code",
   "execution_count": 47,
   "id": "42f7b3de-f657-4b01-9949-b8ac3d81e140",
   "metadata": {},
   "outputs": [
    {
     "data": {
      "text/plain": [
       "dtype('int32')"
      ]
     },
     "execution_count": 47,
     "metadata": {},
     "output_type": "execute_result"
    }
   ],
   "source": [
    "listarr.dtype"
   ]
  },
  {
   "cell_type": "code",
   "execution_count": 49,
   "id": "3d1f9a17-4301-4ffc-9a25-3166a06b31ca",
   "metadata": {},
   "outputs": [
    {
     "data": {
      "text/plain": [
       "(3, 3)"
      ]
     },
     "execution_count": 49,
     "metadata": {},
     "output_type": "execute_result"
    }
   ],
   "source": [
    "listarr.shape"
   ]
  },
  {
   "cell_type": "code",
   "execution_count": 41,
   "id": "96c83bbd-20e4-4ac8-bbef-1a5eed7e96ba",
   "metadata": {},
   "outputs": [
    {
     "data": {
      "text/plain": [
       "9"
      ]
     },
     "execution_count": 41,
     "metadata": {},
     "output_type": "execute_result"
    }
   ],
   "source": [
    "listarr.size"
   ]
  },
  {
   "cell_type": "code",
   "execution_count": 53,
   "id": "a6414ef9-676e-40ec-92f2-7b5db9698eb9",
   "metadata": {},
   "outputs": [
    {
     "data": {
      "text/plain": [
       "array({34, 23}, dtype=object)"
      ]
     },
     "execution_count": 53,
     "metadata": {},
     "output_type": "execute_result"
    }
   ],
   "source": [
    "np.array({34, 23, 23})"
   ]
  },
  {
   "cell_type": "code",
   "execution_count": 55,
   "id": "e63b39b3-b332-4763-8efa-c74a273cdf5e",
   "metadata": {},
   "outputs": [],
   "source": [
    "zeros=np.zeros((2,5))"
   ]
  },
  {
   "cell_type": "code",
   "execution_count": 57,
   "id": "2b66a238-a618-45ea-9345-4836e6964df6",
   "metadata": {},
   "outputs": [
    {
     "data": {
      "text/plain": [
       "array([[0., 0., 0., 0., 0.],\n",
       "       [0., 0., 0., 0., 0.]])"
      ]
     },
     "execution_count": 57,
     "metadata": {},
     "output_type": "execute_result"
    }
   ],
   "source": [
    "zeros"
   ]
  },
  {
   "cell_type": "code",
   "execution_count": 59,
   "id": "bc1e041f-d14c-4bb5-a6d7-8c1508a04d76",
   "metadata": {},
   "outputs": [],
   "source": [
    "range=np.arange(15)"
   ]
  },
  {
   "cell_type": "code",
   "execution_count": 61,
   "id": "a2a16ccd-d739-46c1-8a76-ab441b2405e0",
   "metadata": {},
   "outputs": [
    {
     "data": {
      "text/plain": [
       "array([ 0,  1,  2,  3,  4,  5,  6,  7,  8,  9, 10, 11, 12, 13, 14])"
      ]
     },
     "execution_count": 61,
     "metadata": {},
     "output_type": "execute_result"
    }
   ],
   "source": [
    "range"
   ]
  },
  {
   "cell_type": "code",
   "execution_count": 63,
   "id": "97d94707-a392-4f81-8866-de5601e55794",
   "metadata": {},
   "outputs": [],
   "source": [
    "lspace=np.linspace(1,50,10)"
   ]
  },
  {
   "cell_type": "code",
   "execution_count": 65,
   "id": "365162f4-cb42-47fd-819a-3c5d24057eca",
   "metadata": {},
   "outputs": [
    {
     "data": {
      "text/plain": [
       "array([ 1.        ,  6.44444444, 11.88888889, 17.33333333, 22.77777778,\n",
       "       28.22222222, 33.66666667, 39.11111111, 44.55555556, 50.        ])"
      ]
     },
     "execution_count": 65,
     "metadata": {},
     "output_type": "execute_result"
    }
   ],
   "source": [
    "lspace"
   ]
  },
  {
   "cell_type": "code",
   "execution_count": 69,
   "id": "4209de1d-655a-4b77-9041-1721fa15ecbc",
   "metadata": {},
   "outputs": [],
   "source": [
    "emp =np.empty((4,6))"
   ]
  },
  {
   "cell_type": "code",
   "execution_count": 71,
   "id": "9ed50f5f-9d35-4a71-9c6a-26af7b44ac6d",
   "metadata": {},
   "outputs": [
    {
     "data": {
      "text/plain": [
       "array([[6.23042070e-307, 4.67296746e-307, 1.69121096e-306,\n",
       "        7.56595733e-307, 1.89146896e-307, 7.56571288e-307],\n",
       "       [4.00544531e-307, 1.11261095e-306, 3.56043054e-307,\n",
       "        1.37961641e-306, 2.22518251e-306, 1.33511969e-306],\n",
       "       [6.23037657e-307, 9.34609790e-307, 8.45593934e-307,\n",
       "        9.34600963e-307, 7.56601165e-307, 1.69118787e-306],\n",
       "       [6.23058368e-307, 6.23059726e-307, 1.60220936e-306,\n",
       "        9.34598925e-307, 2.22522596e-306, 1.42404727e-306]])"
      ]
     },
     "execution_count": 71,
     "metadata": {},
     "output_type": "execute_result"
    }
   ],
   "source": [
    "emp"
   ]
  },
  {
   "cell_type": "code",
   "execution_count": 73,
   "id": "b6d732da-554e-4b80-b0dc-59406e1b5ec6",
   "metadata": {},
   "outputs": [],
   "source": [
    "emp_like = np.empty_like(lspace)"
   ]
  },
  {
   "cell_type": "code",
   "execution_count": 75,
   "id": "e1808693-c508-4c1f-99c6-acefc16fa18d",
   "metadata": {},
   "outputs": [
    {
     "data": {
      "text/plain": [
       "array([ 1.        ,  6.44444444, 11.88888889, 17.33333333, 22.77777778,\n",
       "       28.22222222, 33.66666667, 39.11111111, 44.55555556, 50.        ])"
      ]
     },
     "execution_count": 75,
     "metadata": {},
     "output_type": "execute_result"
    }
   ],
   "source": [
    "emp_like"
   ]
  },
  {
   "cell_type": "code",
   "execution_count": 85,
   "id": "0809aab3-4fee-4615-b75a-24c0f48d86d9",
   "metadata": {},
   "outputs": [],
   "source": [
    "ide = np.identity(3)"
   ]
  },
  {
   "cell_type": "code",
   "execution_count": 87,
   "id": "acb81795-bb1d-4f8f-9801-b4b02e10e393",
   "metadata": {},
   "outputs": [
    {
     "data": {
      "text/plain": [
       "array([[1., 0., 0.],\n",
       "       [0., 1., 0.],\n",
       "       [0., 0., 1.]])"
      ]
     },
     "execution_count": 87,
     "metadata": {},
     "output_type": "execute_result"
    }
   ],
   "source": [
    "ide"
   ]
  },
  {
   "cell_type": "code",
   "execution_count": 89,
   "id": "8bf2b35f-9b0d-4d29-b721-de9702505f5f",
   "metadata": {},
   "outputs": [],
   "source": [
    "arr = np.arange(99)"
   ]
  },
  {
   "cell_type": "code",
   "execution_count": 91,
   "id": "79b1d300-df7e-4f58-bcee-97402e1f377f",
   "metadata": {},
   "outputs": [],
   "source": [
    "arr = arr.reshape(3,33)"
   ]
  },
  {
   "cell_type": "code",
   "execution_count": 93,
   "id": "06ed376a-5f61-4c27-927e-2c93705a4f23",
   "metadata": {},
   "outputs": [
    {
     "data": {
      "text/plain": [
       "array([[ 0,  1,  2,  3,  4,  5,  6,  7,  8,  9, 10, 11, 12, 13, 14, 15,\n",
       "        16, 17, 18, 19, 20, 21, 22, 23, 24, 25, 26, 27, 28, 29, 30, 31,\n",
       "        32],\n",
       "       [33, 34, 35, 36, 37, 38, 39, 40, 41, 42, 43, 44, 45, 46, 47, 48,\n",
       "        49, 50, 51, 52, 53, 54, 55, 56, 57, 58, 59, 60, 61, 62, 63, 64,\n",
       "        65],\n",
       "       [66, 67, 68, 69, 70, 71, 72, 73, 74, 75, 76, 77, 78, 79, 80, 81,\n",
       "        82, 83, 84, 85, 86, 87, 88, 89, 90, 91, 92, 93, 94, 95, 96, 97,\n",
       "        98]])"
      ]
     },
     "execution_count": 93,
     "metadata": {},
     "output_type": "execute_result"
    }
   ],
   "source": [
    "arr"
   ]
  },
  {
   "cell_type": "code",
   "execution_count": 97,
   "id": "09076f86-5503-43ed-a317-006a5a9a9ecc",
   "metadata": {},
   "outputs": [],
   "source": [
    "arr = arr.ravel()"
   ]
  },
  {
   "cell_type": "code",
   "execution_count": 99,
   "id": "db1c5254-8d86-4cbb-8888-ed7d1995f262",
   "metadata": {},
   "outputs": [
    {
     "data": {
      "text/plain": [
       "array([ 0,  1,  2,  3,  4,  5,  6,  7,  8,  9, 10, 11, 12, 13, 14, 15, 16,\n",
       "       17, 18, 19, 20, 21, 22, 23, 24, 25, 26, 27, 28, 29, 30, 31, 32, 33,\n",
       "       34, 35, 36, 37, 38, 39, 40, 41, 42, 43, 44, 45, 46, 47, 48, 49, 50,\n",
       "       51, 52, 53, 54, 55, 56, 57, 58, 59, 60, 61, 62, 63, 64, 65, 66, 67,\n",
       "       68, 69, 70, 71, 72, 73, 74, 75, 76, 77, 78, 79, 80, 81, 82, 83, 84,\n",
       "       85, 86, 87, 88, 89, 90, 91, 92, 93, 94, 95, 96, 97, 98])"
      ]
     },
     "execution_count": 99,
     "metadata": {},
     "output_type": "execute_result"
    }
   ],
   "source": [
    "arr"
   ]
  },
  {
   "cell_type": "code",
   "execution_count": 101,
   "id": "a9af90e2-ec6f-4ac0-b035-fae076e237bf",
   "metadata": {},
   "outputs": [
    {
     "data": {
      "text/plain": [
       "(99,)"
      ]
     },
     "execution_count": 101,
     "metadata": {},
     "output_type": "execute_result"
    }
   ],
   "source": [
    "arr.shape"
   ]
  },
  {
   "cell_type": "code",
   "execution_count": 103,
   "id": "d5077b55-04b5-4703-a938-c0ec803f37f1",
   "metadata": {},
   "outputs": [],
   "source": [
    "x =[[1, 2, 3],\n",
    "    [4, 5, 6],\n",
    "    [7, 8, 9]]"
   ]
  },
  {
   "cell_type": "code",
   "execution_count": 105,
   "id": "7c93e3cd-7e0e-40e1-bbd8-34f009d8c64e",
   "metadata": {},
   "outputs": [],
   "source": [
    "ar = np.array(x)"
   ]
  },
  {
   "cell_type": "code",
   "execution_count": 109,
   "id": "f061e5e2-93f0-41bb-8550-ff55af317a50",
   "metadata": {},
   "outputs": [
    {
     "data": {
      "text/plain": [
       "array([[1, 2, 3],\n",
       "       [4, 5, 6],\n",
       "       [7, 8, 9]])"
      ]
     },
     "execution_count": 109,
     "metadata": {},
     "output_type": "execute_result"
    }
   ],
   "source": [
    "ar"
   ]
  },
  {
   "cell_type": "code",
   "execution_count": 113,
   "id": "b102dab4-0c13-4c29-b6ae-3cc4d8bbec7f",
   "metadata": {},
   "outputs": [
    {
     "data": {
      "text/plain": [
       "array([12, 15, 18])"
      ]
     },
     "execution_count": 113,
     "metadata": {},
     "output_type": "execute_result"
    }
   ],
   "source": [
    "ar.sum(axis=0)"
   ]
  },
  {
   "cell_type": "code",
   "execution_count": 115,
   "id": "08c6c4db-a1f5-483d-8a52-1265c5a978ed",
   "metadata": {},
   "outputs": [
    {
     "data": {
      "text/plain": [
       "array([[1, 4, 7],\n",
       "       [2, 5, 8],\n",
       "       [3, 6, 9]])"
      ]
     },
     "execution_count": 115,
     "metadata": {},
     "output_type": "execute_result"
    }
   ],
   "source": [
    "ar.T"
   ]
  },
  {
   "cell_type": "code",
   "execution_count": 117,
   "id": "a6b33bbc-a255-4bc4-b524-eda3123a6bc5",
   "metadata": {},
   "outputs": [
    {
     "name": "stdout",
     "output_type": "stream",
     "text": [
      "1\n",
      "2\n",
      "3\n",
      "4\n",
      "5\n",
      "6\n",
      "7\n",
      "8\n",
      "9\n"
     ]
    }
   ],
   "source": [
    "for i in ar.flat:\n",
    "    print(i)"
   ]
  },
  {
   "cell_type": "code",
   "execution_count": 119,
   "id": "ae1d3f48-e7d3-48b4-b11c-0aa87e6d0f65",
   "metadata": {},
   "outputs": [
    {
     "data": {
      "text/plain": [
       "2"
      ]
     },
     "execution_count": 119,
     "metadata": {},
     "output_type": "execute_result"
    }
   ],
   "source": [
    "ar.ndim"
   ]
  },
  {
   "cell_type": "code",
   "execution_count": 121,
   "id": "a42a0f1f-fc2f-4a44-9171-ceed1449f5e2",
   "metadata": {},
   "outputs": [
    {
     "data": {
      "text/plain": [
       "9"
      ]
     },
     "execution_count": 121,
     "metadata": {},
     "output_type": "execute_result"
    }
   ],
   "source": [
    "ar.size"
   ]
  },
  {
   "cell_type": "code",
   "execution_count": 123,
   "id": "986250e7-41c5-436e-ad94-331a983ed54a",
   "metadata": {},
   "outputs": [
    {
     "data": {
      "text/plain": [
       "36"
      ]
     },
     "execution_count": 123,
     "metadata": {},
     "output_type": "execute_result"
    }
   ],
   "source": [
    "ar.nbytes"
   ]
  },
  {
   "cell_type": "code",
   "execution_count": 125,
   "id": "9129a7a1-ee02-4e65-b6a1-3ec714ea77f4",
   "metadata": {},
   "outputs": [],
   "source": [
    "one = np.array([1,2,3,4,5,6])"
   ]
  },
  {
   "cell_type": "code",
   "execution_count": 127,
   "id": "73e4a8ba-65aa-4ec6-8eda-500a1d0c427d",
   "metadata": {},
   "outputs": [
    {
     "data": {
      "text/plain": [
       "5"
      ]
     },
     "execution_count": 127,
     "metadata": {},
     "output_type": "execute_result"
    }
   ],
   "source": [
    "one.argmax()"
   ]
  },
  {
   "cell_type": "code",
   "execution_count": 129,
   "id": "4aef8093-a18c-4a88-b8c3-5b80eaccdfc6",
   "metadata": {},
   "outputs": [
    {
     "data": {
      "text/plain": [
       "0"
      ]
     },
     "execution_count": 129,
     "metadata": {},
     "output_type": "execute_result"
    }
   ],
   "source": [
    "one.argmin()"
   ]
  },
  {
   "cell_type": "code",
   "execution_count": 131,
   "id": "e6a1c01b-dd3f-4659-8c9b-f09443b5ff60",
   "metadata": {},
   "outputs": [
    {
     "data": {
      "text/plain": [
       "array([0, 1, 2, 3, 4, 5], dtype=int64)"
      ]
     },
     "execution_count": 131,
     "metadata": {},
     "output_type": "execute_result"
    }
   ],
   "source": [
    "one.argsort()"
   ]
  },
  {
   "cell_type": "code",
   "execution_count": 133,
   "id": "68055fcf-bcae-4ac3-9343-11088d81c820",
   "metadata": {},
   "outputs": [
    {
     "data": {
      "text/plain": [
       "array([[1, 2, 3],\n",
       "       [4, 5, 6],\n",
       "       [7, 8, 9]])"
      ]
     },
     "execution_count": 133,
     "metadata": {},
     "output_type": "execute_result"
    }
   ],
   "source": [
    "ar"
   ]
  },
  {
   "cell_type": "code",
   "execution_count": 135,
   "id": "80adf6f6-275d-4892-b486-bbb8f4fc15d4",
   "metadata": {},
   "outputs": [
    {
     "data": {
      "text/plain": [
       "array([2, 2, 2], dtype=int64)"
      ]
     },
     "execution_count": 135,
     "metadata": {},
     "output_type": "execute_result"
    }
   ],
   "source": [
    "ar.argmax(axis=0)"
   ]
  },
  {
   "cell_type": "code",
   "execution_count": 137,
   "id": "9fbbc095-f1fa-42b4-a966-5e2e741f7c25",
   "metadata": {},
   "outputs": [
    {
     "data": {
      "text/plain": [
       "0"
      ]
     },
     "execution_count": 137,
     "metadata": {},
     "output_type": "execute_result"
    }
   ],
   "source": [
    " ar.argmin()"
   ]
  },
  {
   "cell_type": "code",
   "execution_count": 139,
   "id": "5201396a-27f2-4f38-a7fc-d1908b68e668",
   "metadata": {},
   "outputs": [
    {
     "data": {
      "text/plain": [
       "8"
      ]
     },
     "execution_count": 139,
     "metadata": {},
     "output_type": "execute_result"
    }
   ],
   "source": [
    "ar.argmax()"
   ]
  },
  {
   "cell_type": "code",
   "execution_count": 141,
   "id": "9dacde3a-b669-4a73-829f-09fbf4b92daa",
   "metadata": {},
   "outputs": [],
   "source": [
    "ar2 = np.array([[2,1,1],\n",
    "               [2,1,4],\n",
    "               [3,1,2]])"
   ]
  },
  {
   "cell_type": "code",
   "execution_count": 143,
   "id": "1b0f493e-95d4-416f-bc13-bfa5bdb17482",
   "metadata": {},
   "outputs": [
    {
     "data": {
      "text/plain": [
       "array([[2, 1, 1],\n",
       "       [2, 1, 4],\n",
       "       [3, 1, 2]])"
      ]
     },
     "execution_count": 143,
     "metadata": {},
     "output_type": "execute_result"
    }
   ],
   "source": [
    "ar2"
   ]
  },
  {
   "cell_type": "code",
   "execution_count": 147,
   "id": "908df479-cadb-425b-8d9d-55a814582b79",
   "metadata": {},
   "outputs": [
    {
     "data": {
      "text/plain": [
       "array([[1, 2, 3],\n",
       "       [4, 5, 6],\n",
       "       [7, 8, 9]])"
      ]
     },
     "execution_count": 147,
     "metadata": {},
     "output_type": "execute_result"
    }
   ],
   "source": [
    "ar"
   ]
  },
  {
   "cell_type": "code",
   "execution_count": 145,
   "id": "be536e45-496e-4fd9-9f10-397b9c54a996",
   "metadata": {},
   "outputs": [
    {
     "data": {
      "text/plain": [
       "array([[ 3,  3,  4],\n",
       "       [ 6,  6, 10],\n",
       "       [10,  9, 11]])"
      ]
     },
     "execution_count": 145,
     "metadata": {},
     "output_type": "execute_result"
    }
   ],
   "source": [
    "ar + ar2"
   ]
  },
  {
   "cell_type": "code",
   "execution_count": 149,
   "id": "c69a57e1-5275-4159-b836-cabdf7e5b2cc",
   "metadata": {},
   "outputs": [
    {
     "data": {
      "text/plain": [
       "array([[ 2,  2,  3],\n",
       "       [ 8,  5, 24],\n",
       "       [21,  8, 18]])"
      ]
     },
     "execution_count": 149,
     "metadata": {},
     "output_type": "execute_result"
    }
   ],
   "source": [
    "ar * ar2"
   ]
  },
  {
   "cell_type": "code",
   "execution_count": 151,
   "id": "53933e33-66a8-4a68-9ce5-c4487595cdbe",
   "metadata": {},
   "outputs": [
    {
     "data": {
      "text/plain": [
       "array([[1.41421356, 1.        , 1.        ],\n",
       "       [1.41421356, 1.        , 2.        ],\n",
       "       [1.73205081, 1.        , 1.41421356]])"
      ]
     },
     "execution_count": 151,
     "metadata": {},
     "output_type": "execute_result"
    }
   ],
   "source": [
    "np.sqrt(ar2)"
   ]
  },
  {
   "cell_type": "code",
   "execution_count": 153,
   "id": "52853b0c-9507-4f3d-99fb-10b84d809f52",
   "metadata": {},
   "outputs": [
    {
     "data": {
      "text/plain": [
       "2.0"
      ]
     },
     "execution_count": 153,
     "metadata": {},
     "output_type": "execute_result"
    }
   ],
   "source": [
    "np.sqrt(4)"
   ]
  },
  {
   "cell_type": "code",
   "execution_count": 155,
   "id": "7351d1a0-a353-4c8b-9c9c-bb58ce60f698",
   "metadata": {},
   "outputs": [
    {
     "data": {
      "text/plain": [
       "17"
      ]
     },
     "execution_count": 155,
     "metadata": {},
     "output_type": "execute_result"
    }
   ],
   "source": [
    "ar2.sum()"
   ]
  },
  {
   "cell_type": "code",
   "execution_count": 157,
   "id": "8de7d253-9f9f-419f-86ca-1425c090f777",
   "metadata": {},
   "outputs": [
    {
     "data": {
      "text/plain": [
       "1"
      ]
     },
     "execution_count": 157,
     "metadata": {},
     "output_type": "execute_result"
    }
   ],
   "source": [
    "ar2.min()"
   ]
  },
  {
   "cell_type": "code",
   "execution_count": 159,
   "id": "c51b38fa-2953-4ea7-b544-30caa97492fb",
   "metadata": {},
   "outputs": [
    {
     "data": {
      "text/plain": [
       "4"
      ]
     },
     "execution_count": 159,
     "metadata": {},
     "output_type": "execute_result"
    }
   ],
   "source": [
    "ar2.max()"
   ]
  },
  {
   "cell_type": "code",
   "execution_count": 161,
   "id": "d65b083c-f69d-4827-9ab1-0f711942b32a",
   "metadata": {},
   "outputs": [
    {
     "data": {
      "text/plain": [
       "(array([1, 2, 2, 2], dtype=int64), array([2, 0, 1, 2], dtype=int64))"
      ]
     },
     "execution_count": 161,
     "metadata": {},
     "output_type": "execute_result"
    }
   ],
   "source": [
    "np.where(ar>5)"
   ]
  },
  {
   "cell_type": "code",
   "execution_count": 163,
   "id": "4d061107-d624-4629-b73d-af4f4c108cd9",
   "metadata": {},
   "outputs": [
    {
     "data": {
      "text/plain": [
       "tuple"
      ]
     },
     "execution_count": 163,
     "metadata": {},
     "output_type": "execute_result"
    }
   ],
   "source": [
    "type(np.where(ar<5))"
   ]
  },
  {
   "cell_type": "code",
   "execution_count": 165,
   "id": "4b02f818-194a-4fb1-99f2-050146268e91",
   "metadata": {},
   "outputs": [
    {
     "data": {
      "text/plain": [
       "9"
      ]
     },
     "execution_count": 165,
     "metadata": {},
     "output_type": "execute_result"
    }
   ],
   "source": [
    "np.count_nonzero(ar)"
   ]
  },
  {
   "cell_type": "code",
   "execution_count": 169,
   "id": "2a0a057c-ace8-4070-b287-d64db746d5be",
   "metadata": {},
   "outputs": [
    {
     "data": {
      "text/plain": [
       "(array([0, 0, 0, 1, 1, 1, 2, 2, 2], dtype=int64),\n",
       " array([0, 1, 2, 0, 1, 2, 0, 1, 2], dtype=int64))"
      ]
     },
     "execution_count": 169,
     "metadata": {},
     "output_type": "execute_result"
    }
   ],
   "source": [
    "np.nonzero(ar)"
   ]
  },
  {
   "cell_type": "code",
   "execution_count": 171,
   "id": "a6ede221-737b-4d50-9926-f496181e1038",
   "metadata": {},
   "outputs": [],
   "source": [
    "import sys"
   ]
  },
  {
   "cell_type": "code",
   "execution_count": 173,
   "id": "70e77aeb-3df3-4ad9-bdab-3269709396a7",
   "metadata": {},
   "outputs": [],
   "source": [
    "ch_ar = [0,4,55,2]"
   ]
  },
  {
   "cell_type": "code",
   "execution_count": 175,
   "id": "c95d7d4f-dc6c-4056-b4f6-21864287b028",
   "metadata": {},
   "outputs": [],
   "source": [
    "np_ar =np.array(ch_ar)"
   ]
  },
  {
   "cell_type": "code",
   "execution_count": 177,
   "id": "c85cafa5-1397-42da-bc61-794d2863b241",
   "metadata": {},
   "outputs": [
    {
     "data": {
      "text/plain": [
       "112"
      ]
     },
     "execution_count": 177,
     "metadata": {},
     "output_type": "execute_result"
    }
   ],
   "source": [
    "sys.getsizeof(1) * len(ch_ar)"
   ]
  },
  {
   "cell_type": "code",
   "execution_count": 179,
   "id": "c703b9db-79cc-4490-93bc-89f08497bde7",
   "metadata": {},
   "outputs": [
    {
     "data": {
      "text/plain": [
       "16"
      ]
     },
     "execution_count": 179,
     "metadata": {},
     "output_type": "execute_result"
    }
   ],
   "source": [
    "np_ar.itemsize * np_ar.size"
   ]
  },
  {
   "cell_type": "code",
   "execution_count": 181,
   "id": "fea65828-a0fb-41bb-a213-cfaf27c3db44",
   "metadata": {},
   "outputs": [
    {
     "data": {
      "text/plain": [
       "[0, 4, 55, 2]"
      ]
     },
     "execution_count": 181,
     "metadata": {},
     "output_type": "execute_result"
    }
   ],
   "source": [
    "np_ar.tolist()"
   ]
  },
  {
   "cell_type": "markdown",
   "id": "eefc7fc4-117f-4475-8a37-12e54d6e08f8",
   "metadata": {},
   "source": [
    "***Numpy GFG***"
   ]
  },
  {
   "cell_type": "markdown",
   "id": "1f2f7377-bed5-4349-a016-d538a30f75cf",
   "metadata": {},
   "source": [
    "**1. Converting a list to Array**"
   ]
  },
  {
   "cell_type": "code",
   "execution_count": 54,
   "id": "9bcb23d3-2188-4f3b-aca9-02c7afbf451a",
   "metadata": {},
   "outputs": [
    {
     "data": {
      "text/plain": [
       "array([[[1, 2, 3, 4]]])"
      ]
     },
     "execution_count": 54,
     "metadata": {},
     "output_type": "execute_result"
    }
   ],
   "source": [
    "import numpy as np\n",
    "lst = [1,2,3,4]\n",
    "np.array(lst)\n",
    "type(lst)\n",
    "x = np.array(lst) #Numpy list to array\n",
    "type(x)\n",
    "v = x.tolist() #Numpy array to list\n",
    "type(v)\n",
    "arr = np.array(lst, ndmin = 1)\n",
    "arr\n",
    "arr = np.array(lst, ndmin = 3)\n",
    "arr"
   ]
  },
  {
   "cell_type": "markdown",
   "id": "ff0af110-b948-484c-9327-081b35c82a21",
   "metadata": {},
   "source": [
    "**2. Arange function**"
   ]
  },
  {
   "cell_type": "markdown",
   "id": "65fe3e14-603b-4b0d-b1f7-86dc49fc47a2",
   "metadata": {},
   "source": [
    "*the arange([start,], stop[, step,][, dtype]) : Returns an array with evenly space elements as per the interval.\n",
    "The interval mentioned is half-opened i.e, [start, stop]*"
   ]
  },
  {
   "cell_type": "code",
   "execution_count": 60,
   "id": "e9af8cf2-52b2-4407-98ef-b1a5863fd3e5",
   "metadata": {},
   "outputs": [
    {
     "name": "stdout",
     "output_type": "stream",
     "text": [
      "1\n",
      "3\n",
      "5\n",
      "7\n",
      "9\n"
     ]
    }
   ],
   "source": [
    "for i in range(1,10,2):\n",
    "    print(i)"
   ]
  },
  {
   "cell_type": "code",
   "execution_count": 62,
   "id": "d2e16df6-77b1-4a83-99d3-30ed19fbce3c",
   "metadata": {},
   "outputs": [
    {
     "data": {
      "text/plain": [
       "array([1, 3, 5, 7, 9])"
      ]
     },
     "execution_count": 62,
     "metadata": {},
     "output_type": "execute_result"
    }
   ],
   "source": [
    "np.arange(1,10,2)"
   ]
  },
  {
   "cell_type": "markdown",
   "id": "d8bb1dff-6ac7-4a7e-9fe5-6eab6ff8f0c8",
   "metadata": {},
   "source": [
    "**3. Multidimensional Array**"
   ]
  },
  {
   "cell_type": "code",
   "execution_count": 74,
   "id": "6f779258-7f52-4b3c-b46f-9594d8dac85f",
   "metadata": {},
   "outputs": [
    {
     "data": {
      "text/plain": [
       "array([[1, 2, 3],\n",
       "       [4, 5, 6],\n",
       "       [7, 8, 9]])"
      ]
     },
     "execution_count": 74,
     "metadata": {},
     "output_type": "execute_result"
    }
   ],
   "source": [
    "arr = np.array([[1,2,3],\n",
    "             [4,5,6],\n",
    "             [7,8,9]])\n",
    "arr"
   ]
  },
  {
   "cell_type": "markdown",
   "id": "a5573e18-b89a-41b6-a511-901742544ee6",
   "metadata": {},
   "source": [
    "**4. Size Function**"
   ]
  },
  {
   "cell_type": "markdown",
   "id": "04df5765-7f32-4b0d-9b06-4ccf53b3c046",
   "metadata": {},
   "source": [
    "*In python, numpy.size() function count the number of elements along a given axis(0 - rows | 1 - colums)*"
   ]
  },
  {
   "cell_type": "code",
   "execution_count": 77,
   "id": "51739718-b159-470e-b775-89c561ebfb00",
   "metadata": {},
   "outputs": [
    {
     "name": "stdout",
     "output_type": "stream",
     "text": [
      "Total:  9\n",
      "Rows:  3\n",
      "Cols:  3\n"
     ]
    }
   ],
   "source": [
    "arr = np.array([[1,2,3],\n",
    "             [4,5,6],\n",
    "             [7,8,9]])\n",
    "arr\n",
    "print(\"Total: \",arr.size)\n",
    "print(\"Rows: \",np.size(arr,0))\n",
    "print(\"Cols: \",np.size(arr,1))"
   ]
  },
  {
   "cell_type": "markdown",
   "id": "3e63a266-b200-4f22-a3e0-80a3eaaad396",
   "metadata": {},
   "source": [
    "**5. Shape Function**"
   ]
  },
  {
   "cell_type": "markdown",
   "id": "4fb27a83-ea73-4219-a442-46acb47d4203",
   "metadata": {},
   "source": [
    "*The Shape of an array can be defined as the number of elements in each dimensions.\n",
    "Dimensions is the number of indices or subscript, that we require in order to specify an individual element of an array*"
   ]
  },
  {
   "cell_type": "code",
   "execution_count": 84,
   "id": "7c01ef9e-f00b-49f7-a22c-1bb96a4b02b9",
   "metadata": {},
   "outputs": [
    {
     "name": "stdout",
     "output_type": "stream",
     "text": [
      "(3, 3)\n"
     ]
    },
    {
     "data": {
      "text/plain": [
       "(3, 3)"
      ]
     },
     "execution_count": 84,
     "metadata": {},
     "output_type": "execute_result"
    }
   ],
   "source": [
    "arr = np.array([[1,2,3],\n",
    "             [4,5,6],\n",
    "             [7,8,9]])\n",
    "print((np.size(arr,0), np.size(arr,1)))\n",
    "arr.shape"
   ]
  },
  {
   "cell_type": "markdown",
   "id": "279a2b97-1de8-46af-8054-a58adc230f4a",
   "metadata": {},
   "source": [
    "**6. Dtype Function**"
   ]
  },
  {
   "cell_type": "markdown",
   "id": "8d4adf39-310e-4190-9bab-81493783dbc8",
   "metadata": {},
   "source": [
    "*Every ndarray has an associated data type (dtyoe) object. This data type object (dtype) informs us about the layout\n",
    "of the array, This means it gives us information about\n",
    "1.Type of data\n",
    "2.size of data\n",
    "3.the byte order of data\n",
    "4.if the data type is a sub-array, what is its shape and data type*"
   ]
  },
  {
   "cell_type": "code",
   "execution_count": 88,
   "id": "1639f014-e3d1-45d8-a94a-8da786a79a83",
   "metadata": {},
   "outputs": [
    {
     "name": "stdout",
     "output_type": "stream",
     "text": [
      "int32\n"
     ]
    }
   ],
   "source": [
    "arr = np.array([[1,2,3],\n",
    "             [4,5,6],\n",
    "             [7,8,9]])\n",
    "print(arr.dtype)"
   ]
  },
  {
   "cell_type": "markdown",
   "id": "daa08bf7-f09c-4978-ba40-14c492932a23",
   "metadata": {},
   "source": [
    "**7. Ndim Function**"
   ]
  },
  {
   "cell_type": "markdown",
   "id": "bd83ed90-c732-4a64-ac89-a39484287294",
   "metadata": {},
   "source": [
    "*numpy.ndarray.ndim() function return the number of dimensions of an array*"
   ]
  },
  {
   "cell_type": "code",
   "execution_count": null,
   "id": "30156121-22b5-4758-a76a-c19367960965",
   "metadata": {},
   "outputs": [],
   "source": []
  }
 ],
 "metadata": {
  "kernelspec": {
   "display_name": "Python 3 (ipykernel)",
   "language": "python",
   "name": "python3"
  },
  "language_info": {
   "codemirror_mode": {
    "name": "ipython",
    "version": 3
   },
   "file_extension": ".py",
   "mimetype": "text/x-python",
   "name": "python",
   "nbconvert_exporter": "python",
   "pygments_lexer": "ipython3",
   "version": "3.12.4"
  }
 },
 "nbformat": 4,
 "nbformat_minor": 5
}
